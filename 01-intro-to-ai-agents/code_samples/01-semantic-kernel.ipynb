{
 "cells": [
  {
   "cell_type": "markdown",
   "metadata": {},
   "source": [
    "# Semantic Kernel \n",
    "\n",
    "In this code sample, you will use the [Semantic Kernel](https://aka.ms/ai-agents-beginners/semantic-kernel) AI Framework to create a basic agent. \n",
    "\n",
    "The goal of this sample is to show you the steps that we will later use in the addtional code samples when implementing the different agentic patterns. "
   ]
  },
  {
   "cell_type": "markdown",
   "metadata": {},
   "source": [
    "## Import the Needed Python Packages "
   ]
  },
  {
   "cell_type": "code",
   "execution_count": 2,
   "metadata": {},
   "outputs": [],
   "source": [
    "import os \n",
    "from typing import Annotated\n",
    "from openai import AsyncOpenAI\n",
    "\n",
    "from dotenv import load_dotenv\n",
    "\n",
    "from semantic_kernel.agents import ChatCompletionAgent, ChatHistoryAgentThread\n",
    "from semantic_kernel.connectors.ai.open_ai import OpenAIChatCompletion\n",
    "from semantic_kernel.functions import kernel_function"
   ]
  },
  {
   "cell_type": "markdown",
   "metadata": {},
   "source": [
    "## Creating the Client\n",
    "\n",
    "In this sample, we will use [GitHub Models](https://aka.ms/ai-agents-beginners/github-models) for access to the LLM. \n",
    "\n",
    "The `ai_model_id` is defined as `gpt-4o-mini`. Try changing the model to another model available on the GitHub Models marketplace to see the different results. \n",
    "\n",
    "For us to use the `Azure Inference SDK` that is used for the `base_url` for GitHub Models, we will use the `OpenAIChatCompletion` connector within Semantic Kernel. There are also other [available connectors](https://learn.microsoft.com/semantic-kernel/concepts/ai-services/chat-completion) to use Semantic Kernel for other model providers."
   ]
  },
  {
   "cell_type": "code",
   "execution_count": 3,
   "metadata": {},
   "outputs": [],
   "source": [
    "import random   \n",
    "\n",
    "# Define a sample plugin for the sample\n",
    "\n",
    "class DestinationsPlugin:\n",
    "    \"\"\"A List of Random Destinations for a vacation.\"\"\"\n",
    "\n",
    "    def __init__(self):\n",
    "        # List of vacation destinations\n",
    "        self.destinations = [\n",
    "            \"Barcelona, Spain\",\n",
    "            \"Paris, France\",\n",
    "            \"Berlin, Germany\",\n",
    "            \"Tokyo, Japan\",\n",
    "            \"Sydney, Australia\",\n",
    "            \"New York, USA\",\n",
    "            \"Cairo, Egypt\",\n",
    "            \"Cape Town, South Africa\",\n",
    "            \"Rio de Janeiro, Brazil\",\n",
    "            \"Bali, Indonesia\"\n",
    "        ]\n",
    "        # Track last destination to avoid repeats\n",
    "        self.last_destination = None\n",
    "\n",
    "    @kernel_function(description=\"Provides a random vacation destination.\")\n",
    "    def get_random_destination(self) -> Annotated[str, \"Returns a random vacation destination.\"]:\n",
    "        # Get available destinations (excluding last one if possible)\n",
    "        available_destinations = self.destinations.copy()\n",
    "        if self.last_destination and len(available_destinations) > 1:\n",
    "            available_destinations.remove(self.last_destination)\n",
    "\n",
    "        # Select a random destination\n",
    "        destination = random.choice(available_destinations)\n",
    "\n",
    "        # Update the last destination\n",
    "        self.last_destination = destination\n",
    "\n",
    "        return destination"
   ]
  },
  {
   "cell_type": "code",
   "execution_count": 4,
   "metadata": {},
   "outputs": [],
   "source": [
    "load_dotenv()\n",
    "client = AsyncOpenAI(\n",
    "    api_key=os.environ.get(\"GITHUB_TOKEN\"), \n",
    "    base_url=\"https://models.inference.ai.azure.com/\",\n",
    ")\n",
    "\n",
    "# Create an AI Service that will be used by the `ChatCompletionAgent`\n",
    "chat_completion_service = OpenAIChatCompletion(\n",
    "    ai_model_id=\"gpt-4o-mini\",\n",
    "    async_client=client,\n",
    ")"
   ]
  },
  {
   "cell_type": "markdown",
   "metadata": {},
   "source": [
    "## Creating the Agent \n",
    "\n",
    "Below we create the Agent called `TravelAgent`.\n",
    "\n",
    "For this example, we are using very simple instructions. You can change these instructions to see how the agent responds differently. "
   ]
  },
  {
   "cell_type": "code",
   "execution_count": 5,
   "metadata": {},
   "outputs": [],
   "source": [
    "agent = ChatCompletionAgent(\n",
    "    service=chat_completion_service, \n",
    "    plugins=[DestinationsPlugin()],\n",
    "    name=\"TravelAgent\",\n",
    "    instructions=\"You are a helpful AI Agent that can help plan vacations for customers at random destinations\",\n",
    ")"
   ]
  },
  {
   "cell_type": "markdown",
   "metadata": {},
   "source": [
    "## Running the Agent\n",
    "\n",
    "Now we can run the Agent by defining a thread of type `ChatHistoryAgentThread`.  Any required system messages are provided to the agent's invoke_stream `messages` keyword argument.\n",
    "\n",
    "After these are defined, we create a `user_inputs` that will be what the user is sending to the agent. In this case, we have set this message to `Plan me a sunny vacation`. \n",
    "\n",
    "Feel free to change this message to see how the agent responds differently. "
   ]
  },
  {
   "cell_type": "code",
   "execution_count": 6,
   "metadata": {},
   "outputs": [
    {
     "name": "stdout",
     "output_type": "stream",
     "text": [
      "# User: Plan me a day trip.\n",
      "\n",
      "# TravelAgent: How about a day trip to Tokyo, Japan? Here's a suggested itinerary for your day:\n",
      "\n",
      "### Morning\n",
      "- **Visit Senso-ji Temple**: Start your day at Tokyo's oldest temple, located in the Asakusa district. Explore the beautiful temple grounds and don't forget to check out Nakamise Street for traditional snacks and souvenirs.\n",
      "  \n",
      "### Mid-Morning\n",
      "- **Explore Ueno Park**: Take a stroll through Ueno Park where you can visit the Tokyo National Museum or just enjoy the beautiful scenery and cherry blossoms (if in season).\n",
      "\n",
      "### Lunch\n",
      "- **Try Authentic Sushi**: Head to a local sushi restaurant in the Tsukiji Outer Market for a fresh and authentic sushi lunch. \n",
      "\n",
      "### Afternoon\n",
      "- **Tokyo Skytree**: After lunch, visit the Tokyo Skytree for breathtaking panoramic views of the city. You can also explore the adjacent shopping complex and aquarium.\n",
      "\n",
      "### Late Afternoon\n",
      "- **Shibuya Crossing**: Head to Shibuya and experience the famous Shibuya Crossing. Take your time to visit the shops in the area, including the iconic Shibuya 109.\n",
      "\n",
      "### Evening\n",
      "- **Dinner in Shinjuku**: For dinner, explore the vibrant streets of Shinjuku, choosing from various izakayas (Japanese pubs) for a taste of local cuisine.\n",
      "\n",
      "### Night\n",
      "- **Explore Omoide Yokocho**: End your day with a walk through Omoide Yokocho, a nostalgic alley filled with small eateries and bars, perfect for experiencing Tokyo's nightlife.\n",
      "\n",
      "Enjoy your day trip to Tokyo! If you have any specific interests or activities you'd like to include, let me know!\n",
      "# User: 마음에 안들어요...\n",
      "\n",
      "# TravelAgent: 더 나은 계획을 위해 발리, 인도네시아로의 일일 여행을 제안합니다! 다음은 발리에서의 하루 일정입니다:\n",
      "\n",
      "### 아침\n",
      "- **우붓 시장 탐방**: 발리 우붓에 위치한 전통 시장을 방문하여 현지의 수공예품과 기념품을 구경하고, 아침 간식을 즐기세요.\n",
      "\n",
      "### 오전\n",
      "- **Tegallalang 쌀 테라스**: 우붓 인근의 Tegallalang에서 아름다운 쌀 테라스를 감상하고, 선명한 초록빛 풍경 속에서 사진도 찍어보세요.\n",
      "\n",
      "### 점심\n",
      "- **발리 전통 요리**: 지역 레스토랑에서 나시 고랭(볶음밥)이나 미고렝(볶음 국수) 같은 전통 발리 음식을 즐기세요.\n",
      "\n",
      "### 오후\n",
      "- **룽 기우 사원 방문**: 명성 높은 발리의 해변 사원인 룽 기우 사원에서 바다 경치를 감상하세요. 사원 주변의 아름다운 풍경을 즐기며 여유로운 시간을 가지세요.\n",
      "\n",
      "### 늦은 오후\n",
      "- **스파 & 마사지**: 로컬 스파에서 전통 발리 마사지로 피로를 푸세요. 편안한 시간을 갖고 몸과 마음을 재충전하세요.\n",
      "\n",
      "### 저녁\n",
      "- ** 짐바란 해변의 신선한 해산물 저녁식사**: 짐바란 해변에서 신선한 해산물을 그릴에 구워 즐기는 로맨틱한 저녁을 즐기세요. 해변에서 일몰을 바라보며 특별한 시간을 보내세요.\n",
      "\n",
      "### 밤\n",
      "- **바르티발리에서의 칵테일**: 멋진 칵테일 바에서 하루를 마무리하세요. 발리의 밤문화를 경험하며 즐거운 시간을 가지세요.\n",
      "\n",
      "발리에서의 하루 여행이 기대됩니다! 더 원하는 것이나 다른 아이디어가 있으면 말씀해 주세요!\n"
     ]
    }
   ],
   "source": [
    "async def main():\n",
    "    # Create a new thread for the agent\n",
    "    # If no thread is provided, a new thread will be\n",
    "    # created and returned with the initial response\n",
    "    thread: ChatHistoryAgentThread | None = None\n",
    "\n",
    "    user_inputs = [\n",
    "        \"Plan me a day trip.\",\n",
    "        \"마음에 안들어요...\",\n",
    "    ]\n",
    "\n",
    "    for user_input in user_inputs:\n",
    "        print(f\"# User: {user_input}\\n\")\n",
    "        first_chunk = True\n",
    "        async for response in agent.invoke_stream(\n",
    "            messages=user_input, thread=thread,\n",
    "        ):\n",
    "            # 5. Print the response\n",
    "            if first_chunk:\n",
    "                print(f\"# {response.name}: \", end=\"\", flush=True)\n",
    "                first_chunk = False\n",
    "            print(f\"{response}\", end=\"\", flush=True)\n",
    "            thread = response.thread\n",
    "        print()\n",
    "\n",
    "    # Clean up the thread\n",
    "    await thread.delete() if thread else None\n",
    "\n",
    "await main()"
   ]
  },
  {
   "cell_type": "code",
   "execution_count": null,
   "metadata": {},
   "outputs": [],
   "source": []
  }
 ],
 "metadata": {
  "kernelspec": {
   "display_name": ".venv",
   "language": "python",
   "name": "python3"
  },
  "language_info": {
   "codemirror_mode": {
    "name": "ipython",
    "version": 3
   },
   "file_extension": ".py",
   "mimetype": "text/x-python",
   "name": "python",
   "nbconvert_exporter": "python",
   "pygments_lexer": "ipython3",
   "version": "3.11.11"
  }
 },
 "nbformat": 4,
 "nbformat_minor": 2
}
