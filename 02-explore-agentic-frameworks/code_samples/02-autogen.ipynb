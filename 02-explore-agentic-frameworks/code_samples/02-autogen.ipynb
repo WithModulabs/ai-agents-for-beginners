{
 "cells": [
  {
   "cell_type": "markdown",
   "metadata": {},
   "source": [
    "# AutoGen Basic Sample \n",
    "\n",
    "In this code sample, you will use the [AutoGen](https://aka.ms/ai-agents/autogen) AI Framework to create a basic agent. \n",
    "\n",
    "The goal of this sample is to show you the steps that we will later use in the addtional code samples when implementing the different agentic patterns. "
   ]
  },
  {
   "cell_type": "markdown",
   "metadata": {},
   "source": [
    "## Import the Needed Python Packages "
   ]
  },
  {
   "cell_type": "code",
   "execution_count": 4,
   "metadata": {},
   "outputs": [],
   "source": [
    "import os\n",
    "from dotenv import load_dotenv\n",
    "\n",
    "from autogen_agentchat.agents import AssistantAgent\n",
    "from autogen_core.models import UserMessage\n",
    "from autogen_ext.models.azure import AzureAIChatCompletionClient\n",
    "from azure.core.credentials import AzureKeyCredential\n",
    "from autogen_core import CancellationToken\n",
    "\n",
    "from autogen_agentchat.messages import TextMessage\n",
    "from autogen_agentchat.ui import Console\n"
   ]
  },
  {
   "cell_type": "markdown",
   "metadata": {},
   "source": [
    "## Create the Client \n",
    "\n",
    "In this sample, we will use [GitHub Models](https://aka.ms/ai-agents-beginners/github-models) for access to the LLM. \n",
    "\n",
    "The `model` is defined as `gpt-4o-mini`. Try changing the model to another model available on the GitHub Models marketplace to see the different results. \n",
    "\n",
    "As a quick test, we will just run a simple prompt - `What is the capital of France`. "
   ]
  },
  {
   "cell_type": "code",
   "execution_count": 5,
   "metadata": {},
   "outputs": [
    {
     "name": "stderr",
     "output_type": "stream",
     "text": [
      "c:\\Users\\danny\\miniconda3\\envs\\azure_tuto\\Lib\\site-packages\\autogen_ext\\models\\azure\\_azure_ai_client.py:305: UserWarning: Missing required field 'structured_output' in ModelInfo. This field will be required in a future version of AutoGen.\n",
      "  validate_model_info(config[\"model_info\"])\n"
     ]
    },
    {
     "name": "stdout",
     "output_type": "stream",
     "text": [
      "finish_reason='stop' content='The capital of France is Paris.' usage=RequestUsage(prompt_tokens=14, completion_tokens=8) cached=False logprobs=None thought=None\n"
     ]
    }
   ],
   "source": [
    "load_dotenv()\n",
    "client = AzureAIChatCompletionClient(\n",
    "    model=\"gpt-4o-mini\",\n",
    "    endpoint=\"https://models.inference.ai.azure.com\",\n",
    "    # To authenticate with the model you will need to generate a personal access token (PAT) in your GitHub settings.\n",
    "    # Create your PAT token by following instructions here: https://docs.github.com/en/authentication/keeping-your-account-and-data-secure/managing-your-personal-access-tokens\n",
    "    credential=AzureKeyCredential(os.getenv(\"GITHUB_TOKEN\")),\n",
    "    model_info={\n",
    "        \"json_output\": True,\n",
    "        \"function_calling\": True,\n",
    "        \"vision\": True,\n",
    "        \"family\": \"unknown\",\n",
    "    },\n",
    ")\n",
    "\n",
    "result = await client.create([UserMessage(content=\"What is the capital of France?\", source=\"user\")])\n",
    "print(result)"
   ]
  },
  {
   "cell_type": "markdown",
   "metadata": {},
   "source": [
    "## Defining the Agent \n",
    "\n",
    "Now that we have set up the `client` and confirmed that it is working, let us create an `AssistantAgent`. Each agent can be assigned a: \n",
    "**name** - A short hand name that will be useful in referencing it in multi-agent flows. \n",
    "**model_client** - The client that you created in the earlier step. \n",
    "**tools** - Available tools that the Agent can use to complete a task.\n",
    "**system_message** - The metaprompt that defines the task, behavior and tone of the LLM. \n",
    "\n",
    "You can change the system message to see how the LLM responds. We will cover `tools` in Lesson #4. \n"
   ]
  },
  {
   "cell_type": "code",
   "execution_count": 6,
   "metadata": {},
   "outputs": [],
   "source": [
    "agent = AssistantAgent(\n",
    "    name=\"assistant\",\n",
    "    model_client=client,\n",
    "    tools=[],\n",
    "    system_message=\"You are a travel agent that plans great vacations\",\n",
    ")"
   ]
  },
  {
   "cell_type": "markdown",
   "metadata": {},
   "source": [
    "## Run the Agent \n",
    "\n",
    "The below function will run the agent. We use the the `on_message` method to update the Agent's state with the new message. \n",
    "\n",
    "In this case, we update the state with a new message from the user which is `\"Plan me a great sunny vacation\"`.\n",
    "\n",
    "You can change the message content to see how the LLM responds differently. "
   ]
  },
  {
   "cell_type": "code",
   "execution_count": 8,
   "metadata": {},
   "outputs": [
    {
     "data": {
      "text/html": [
       "<div style='margin-bottom:10px'><div style='font-weight:bold'>User:</div><div style='margin-left:20px'>Plan me a great sunny vacation in Geoje</div></div><div style='margin-bottom:20px'><div style='font-weight:bold'>Assistant:</div><div style='margin-left:20px; white-space:pre-wrap'>Geoje Island, located off the coast of South Korea, is renowned for its stunning coastal views, beautiful beaches, and lush landscapes. It’s an excellent destination for a sunny vacation! Here’s a detailed 4-day itinerary to make the most of your trip to Geoje.\n",
       "\n",
       "### Day 1: Arrival in Geoje\n",
       "- **Morning:** Arrive at Busan’s Gimhae International Airport and take a direct bus or taxi to Geoje. The journey takes about 1-1.5 hours.\n",
       "- **Afternoon:** Check into a seaside hotel or guesthouse with ocean views. Consider staying in the Okpo or Hakdong areas for convenience.\n",
       "- **Evening:** Visit Windy Hill, a picturesque spot with a beautiful windmill overlooking the ocean. Enjoy the sunset and take some great photos. Head to a local seafood restaurant for dinner; try the fresh fish or seafood stew. \n",
       "\n",
       "### Day 2: Explore Nature and Beaches\n",
       "- **Morning:** Start your day with breakfast at a local café. Then, head to the scenic Oedo Botania, a marine botanical garden. Accessible by ferry, it’s a great place to enjoy the colorful flowers and unique sculptures.\n",
       "- **Afternoon:** Visit the nearby Cheongna Eco Park, where you can enjoy walking trails or rent bikes to explore the picturesque landscape. Spend some time relaxing at the nearby Gujora Beach.\n",
       "- **Evening:** Return to Geoje City and enjoy dinner at a traditional Korean restaurant. Try dishes like Hae Mool Jji Gae (seafood stew) or grilled mackerel.\n",
       "\n",
       "### Day 3: Cultural and Historical Highlights\n",
       "- **Morning:** Visit the Geoje Prisoner of War Camp, an important historical site with informative exhibits that detail the camp's history during the Korean War. \n",
       "- **Afternoon:** Explore the historic site of the Geoje Island Shipyard, where you can learn about the shipbuilding industry in the region. Alternatively, take a boat trip to the nearby island of Maemul-do for its tranquil beauty.\n",
       "- **Evening:** Head to the beach at Hakdong Mongdol Beach, known for its beautiful black pebbles. Enjoy a beachside barbecue or picnic, taking in the sunset views.\n",
       "\n",
       "### Day 4: Adventure and Relaxation \n",
       "- **Morning:** After breakfast, explore the trails of Mount Geoje (Geoje-san). The hiking trails offer stunning views of the surrounding islands and coastline. Choose a trail that matches your fitness level.\n",
       "- **Afternoon:** Visit the beautiful Hakdong Beach for some sunbathing, swimming, or water sports like paddleboarding. Enjoy lunch at a beachside café.\n",
       "- **Evening:** Wrap up your vacation with a visit to the scenic Geoje Haegeumgang Resort. Take a relaxing boat tour around Haegeumgang, known for its unique rock formations and clear waters. Have a farewell dinner at a local restaurant, celebrating your trip.\n",
       "\n",
       "### Additional Tips:\n",
       "- **Weather:** The best time to visit Geoje for sunny weather is during late spring (May to June) or early fall (September to October) when temperatures are pleasant.\n",
       "- **Transportation:** Renting a car can be very convenient to explore the island, or you can use public buses and taxis.\n",
       "- **Activities:** Depending on your interests, consider activities like snorkeling, scuba diving, or even fishing.\n",
       "- **Local Markets:** Explore local markets for fresh produce, seafood, and souvenirs.\n",
       "\n",
       "Enjoy your sunny vacation in Geoje, creating memories of beautiful landscapes and cultural experiences!</div></div>"
      ],
      "text/plain": [
       "<IPython.core.display.HTML object>"
      ]
     },
     "metadata": {},
     "output_type": "display_data"
    }
   ],
   "source": [
    "from IPython.display import display, HTML\n",
    "\n",
    "\n",
    "async def assistant_run():\n",
    "    # Define the query\n",
    "    user_query = \"Plan me a great sunny vacation in Geoje\"\n",
    "\n",
    "    # Start building HTML output\n",
    "    html_output = \"<div style='margin-bottom:10px'>\"\n",
    "    html_output += \"<div style='font-weight:bold'>User:</div>\"\n",
    "    html_output += f\"<div style='margin-left:20px'>{user_query}</div>\"\n",
    "    html_output += \"</div>\"\n",
    "\n",
    "    # Execute the agent response\n",
    "    response = await agent.on_messages(\n",
    "        [TextMessage(content=user_query, source=\"user\")],\n",
    "        cancellation_token=CancellationToken(),\n",
    "    )\n",
    "\n",
    "    # Add agent response to HTML\n",
    "    html_output += \"<div style='margin-bottom:20px'>\"\n",
    "    html_output += \"<div style='font-weight:bold'>Assistant:</div>\"\n",
    "    html_output += f\"<div style='margin-left:20px; white-space:pre-wrap'>{response.chat_message.content}</div>\"\n",
    "    html_output += \"</div>\"\n",
    "\n",
    "    # Display formatted HTML\n",
    "    display(HTML(html_output))\n",
    "\n",
    "# Run the function\n",
    "await assistant_run()"
   ]
  },
  {
   "cell_type": "code",
   "execution_count": null,
   "metadata": {},
   "outputs": [],
   "source": []
  }
 ],
 "metadata": {
  "kernelspec": {
   "display_name": ".venv",
   "language": "python",
   "name": "python3"
  },
  "language_info": {
   "codemirror_mode": {
    "name": "ipython",
    "version": 3
   },
   "file_extension": ".py",
   "mimetype": "text/x-python",
   "name": "python",
   "nbconvert_exporter": "python",
   "pygments_lexer": "ipython3",
   "version": "3.11.11"
  }
 },
 "nbformat": 4,
 "nbformat_minor": 2
}
